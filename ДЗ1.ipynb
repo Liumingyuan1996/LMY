{
 "cells": [
  {
   "cell_type": "code",
   "execution_count": null,
   "metadata": {},
   "outputs": [],
   "source": [
    "min_ = float(\"inf\")\n",
    "\n",
    "max_ = -float(\"inf\")\n",
    "\n",
    "average = 0\n",
    "\n",
    "sqr_average = 0\n",
    "\n",
    "len_ = 0\n",
    "\n",
    "while True:\n",
    "\n",
    "    inpt = input()\n",
    "\n",
    "    if inpt == 'End':\n",
    "\n",
    "        print({'avrg': average, 'min': min_, 'max': max_, 'stdev': (sqr_average - average ** 2) ** 0.5})\n",
    "\n",
    "        break\n",
    "\n",
    "    else:\n",
    "\n",
    "        len_ += 1\n",
    "\n",
    "        inpt = float(inpt)\n",
    "\n",
    "        min_ = inpt if inpt < min_ else min_\n",
    "\n",
    "        max_ = inpt if inpt > max_ else max_\n",
    "\n",
    "        average = (average * (len_ - 1) + inpt) / len_\n",
    "\n",
    "        sqr_average = (sqr_average * (len_ - 1) + inpt ** 2) / len_"
   ]
  },
  {
   "cell_type": "code",
   "execution_count": null,
   "metadata": {},
   "outputs": [],
   "source": [
    "def bbbl_sort(arr):\n",
    "\n",
    "    N = len(arr)\n",
    "\n",
    "    for i in range(N - 1):\n",
    "\n",
    "        for j in range(N - i - 1):\n",
    "\n",
    "            if arr[j] > arr[j + 1]:\n",
    "\n",
    "                arr[j], arr[j + 1] = arr[j + 1], arr[j]\n",
    "\n",
    "    return arr\n",
    "\n"
   ]
  },
  {
   "cell_type": "code",
   "execution_count": null,
   "metadata": {},
   "outputs": [],
   "source": [
    "a = dict(i=1, j=2, k=3)\n",
    "\n",
    "print({a[i]: i for i in a.keys()})\n",
    "\n"
   ]
  },
  {
   "cell_type": "code",
   "execution_count": null,
   "metadata": {},
   "outputs": [],
   "source": [
    "print(list(map(lambda x: x ** 2, filter(lambda x: 1 if ((x % 10 == 1) or (x % 10 == 9)) else 0, range(1, 50)))))\n",
    "\n"
   ]
  }
 ],
 "metadata": {
  "kernelspec": {
   "display_name": "Python 3",
   "language": "python",
   "name": "python3"
  },
  "language_info": {
   "codemirror_mode": {
    "name": "ipython",
    "version": 3
   },
   "file_extension": ".py",
   "mimetype": "text/x-python",
   "name": "python",
   "nbconvert_exporter": "python",
   "pygments_lexer": "ipython3",
   "version": "3.7.3"
  }
 },
 "nbformat": 4,
 "nbformat_minor": 2
}
