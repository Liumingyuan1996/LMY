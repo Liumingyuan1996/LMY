{
 "cells": [
  {
   "cell_type": "code",
   "execution_count": 1,
   "metadata": {},
   "outputs": [],
   "source": [
    "class Buffer:\n",
    "    def __init__(self):\n",
    "        self.batch = []\n",
    "        self.size = 0\n",
    "        \n",
    "    def add(self, *a):\n",
    "        term_ind = 5-self.size\n",
    "        #print('ti: ',term_ind)\n",
    "        if term_ind > len(a):\n",
    "            self.batch += list(a)\n",
    "            self.size+=len(a)\n",
    "        else:\n",
    "            #print(self.values)\n",
    "            self.batch +=  list(a[:term_ind])\n",
    "            print('sum of ', self.batch,' is ', sum(self.batch))\n",
    "            self.size=0\n",
    "            self.batch=[]\n",
    "            self.add(*a[term_ind:])        \n",
    "\n",
    "    def get_current_part(self):\n",
    "        print('Current part is ',self.batch)\n",
    "        return self.batch"
   ]
  },
  {
   "cell_type": "code",
   "execution_count": 2,
   "metadata": {},
   "outputs": [
    {
     "name": "stdout",
     "output_type": "stream",
     "text": [
      "sum of  [1, 2, 3, 1, 2]  is  9\n",
      "sum of  [3, 4, 1, 2, 3]  is  13\n",
      "Current part is  [4]\n"
     ]
    },
    {
     "data": {
      "text/plain": [
       "[4]"
      ]
     },
     "execution_count": 2,
     "metadata": {},
     "output_type": "execute_result"
    }
   ],
   "source": [
    "a = Buffer()\n",
    "a.add(1,2,3)\n",
    "a.add(1,2,3,4)\n",
    "a.add(1,2,3,4)\n",
    "a.get_current_part()"
   ]
  },
  {
   "cell_type": "code",
   "execution_count": null,
   "metadata": {},
   "outputs": [],
   "source": []
  }
 ],
 "metadata": {
  "kernelspec": {
   "display_name": "Python 3",
   "language": "python",
   "name": "python3"
  },
  "language_info": {
   "codemirror_mode": {
    "name": "ipython",
    "version": 3
   },
   "file_extension": ".py",
   "mimetype": "text/x-python",
   "name": "python",
   "nbconvert_exporter": "python",
   "pygments_lexer": "ipython3",
   "version": "3.7.3"
  }
 },
 "nbformat": 4,
 "nbformat_minor": 2
}
