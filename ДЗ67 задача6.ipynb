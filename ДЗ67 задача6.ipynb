{
 "cells": [
  {
   "cell_type": "code",
   "execution_count": 1,
   "metadata": {},
   "outputs": [
    {
     "name": "stdout",
     "output_type": "stream",
     "text": [
      "полаять\n"
     ]
    }
   ],
   "source": [
    "from copy import copy\n",
    "def print_factory(string):\n",
    "    def f(self):\n",
    "        return print(string)  # i is now a *local* variable of f_factory and can't ever change\n",
    "    return f\n",
    "function_names = 'полаять, родить, сложить_два_числа, ужалить, подумать, взлететь, пустить_корни, поесть, взять'.split(sep=', ')\n",
    "functions = {i:print_factory(i) for i in function_names}\n",
    "functions[function_names[0]]('аргумент')"
   ]
  },
  {
   "cell_type": "code",
   "execution_count": 2,
   "metadata": {},
   "outputs": [],
   "source": [
    "from functools import partial\n",
    "class OBJ_CUSTOM():\n",
    "    def __init__(self):\n",
    "        super()\n",
    "    def add_methods(self, *funcs):\n",
    "        for f in funcs:\n",
    "            setattr(self, f, partial(functions[f], self))"
   ]
  },
  {
   "cell_type": "code",
   "execution_count": 3,
   "metadata": {},
   "outputs": [
    {
     "name": "stdout",
     "output_type": "stream",
     "text": [
      "пустить_корни\n"
     ]
    }
   ],
   "source": [
    "class Oduvanchik(OBJ_CUSTOM):\n",
    "    def __init__(self):\n",
    "        super()\n",
    "        self.add_methods('пустить_корни')\n",
    "        self.age = 0\n",
    "        self.latin = 'oduvanchik'\n",
    "Oduvanchik().пустить_корни()"
   ]
  },
  {
   "cell_type": "code",
   "execution_count": 4,
   "metadata": {},
   "outputs": [],
   "source": [
    "class Komputer(OBJ_CUSTOM):\n",
    "    def __init__(self):\n",
    "        super().__init__()\n",
    "        self.age = 0\n",
    "        self.latin = 'komputer'\n",
    "        self.add_methods('сложить_два_числа')\n",
    "        \n",
    "class Letaushee(OBJ_CUSTOM):# Если найти достаточно высокую гору, то летает все, но в более узком смысле, пусть летают как самолеты, так и некоторые животные\n",
    "    def __init__(self):\n",
    "        super().__init__()\n",
    "        self.add_methods('взлететь')\n",
    "        self.age = 0\n",
    "        self.latin = 'Letaushee'\n",
    "        \n",
    "class Razumnoe(OBJ_CUSTOM): # гипотетически Искуственный Интеллект разумен, а он не живой\n",
    "    def __init__(self):\n",
    "        super().__init__()\n",
    "        self.add_methods('сложить_два_числа','подумать')  #Если что-то или кто-то разумно (разумен), ему не составит труда сложить два небольших числа (по такой классификации я не разумен, но отбросим это для простоты)\n",
    "        self.age = 0\n",
    "        self.latin = 'Razumnoe'\n",
    "\n",
    "class ImeusheeLapy(OBJ_CUSTOM): #ветка ели - лапа, так что много что может иметь лапы, поэтому никаких подходящих функций не добавить\n",
    "    def __init__(self):\n",
    "        super().__init__()\n",
    "        self.age = 0\n",
    "        self.latin = 'ImeusheeLapy'\n",
    "class Zhivotnoe(OBJ_CUSTOM): #Логично считать, что все животные в некотором смысле рожают\n",
    "    def __init__(self):\n",
    "        super().__init__()\n",
    "        self.age = 0\n",
    "        self.latin = 'zhivotnoe'\n",
    "        self.add_methods('родить')\n",
    "\n",
    "class BelkaLetyaga(ImeusheeLapy, Zhivotnoe, Letaushee):\n",
    "    def __init__(self):\n",
    "        super().__init__()\n",
    "        self.add_methods('взять','поесть')\n",
    "        self.latin = 'BelkaLetyaga'\n",
    "        \n",
    "class Sobaka(ImeusheeLapy, Razumnoe, Zhivotnoe):\n",
    "    def __init__(self):\n",
    "        super().__init__()\n",
    "        self.add_methods('взять','поесть')\n",
    "        self.latin = 'Sobaka'\n",
    "        \n",
    "class Shenok(Sobaka):\n",
    "    def __init__(self):\n",
    "        super().__init__() \n",
    "        self.age -= 1 #то же самое что и собака, но, наверное, младше среднего\n",
    "        self.latin = 'Shenok'\n",
    "        \n",
    "class Orel(Zhivotnoe, Letaushee, Razumnoe):\n",
    "    def __init__(self):\n",
    "        super().__init__()\n",
    "        self.add_methods('взять','поесть')\n",
    "        self.latin = 'Orel'\n",
    "        \n",
    "class Chelovek(Zhivotnoe, ImeusheeLapy, Razumnoe):\n",
    "    def __init__(self):\n",
    "        super().__init__()\n",
    "        self.add_methods('взять','поесть','пустить_корни','полаять') #Иногда человеки лают. Временами о людях говорят, что они пускают корни\n",
    "        self.latin = 'Chelovek'\n",
    "        \n",
    "class Meduza(Zhivotnoe):\n",
    "    def __init__(self):\n",
    "        super().__init__()\n",
    "        self.add_methods('ужалить') #некоторые медузы жалят\n",
    "        self.latin = 'Meduza'\n",
    "class Samolet(Letaushee):\n",
    "     def __init__(self):\n",
    "        super().__init__()\n",
    "        self.latin = 'Samolet'"
   ]
  },
  {
   "cell_type": "code",
   "execution_count": 5,
   "metadata": {},
   "outputs": [
    {
     "data": {
      "text/plain": [
       "-1"
      ]
     },
     "execution_count": 5,
     "metadata": {},
     "output_type": "execute_result"
    }
   ],
   "source": [
    "Shenok().age"
   ]
  },
  {
   "cell_type": "code",
   "execution_count": 6,
   "metadata": {},
   "outputs": [
    {
     "name": "stdout",
     "output_type": "stream",
     "text": [
      "взлететь\n"
     ]
    }
   ],
   "source": [
    "Orel().взлететь()"
   ]
  },
  {
   "cell_type": "code",
   "execution_count": 7,
   "metadata": {},
   "outputs": [
    {
     "name": "stdout",
     "output_type": "stream",
     "text": [
      "подумать\n"
     ]
    }
   ],
   "source": [
    "Orel().подумать()"
   ]
  },
  {
   "cell_type": "code",
   "execution_count": 8,
   "metadata": {},
   "outputs": [
    {
     "name": "stdout",
     "output_type": "stream",
     "text": [
      "родить\n"
     ]
    }
   ],
   "source": [
    "Orel().родить()"
   ]
  },
  {
   "cell_type": "code",
   "execution_count": 9,
   "metadata": {},
   "outputs": [
    {
     "name": "stdout",
     "output_type": "stream",
     "text": [
      "взять\n"
     ]
    }
   ],
   "source": [
    "Orel().взять()"
   ]
  },
  {
   "cell_type": "code",
   "execution_count": 10,
   "metadata": {},
   "outputs": [
    {
     "name": "stdout",
     "output_type": "stream",
     "text": [
      "поесть\n"
     ]
    }
   ],
   "source": [
    "Orel().поесть()"
   ]
  },
  {
   "cell_type": "code",
   "execution_count": null,
   "metadata": {},
   "outputs": [],
   "source": []
  }
 ],
 "metadata": {
  "kernelspec": {
   "display_name": "Python 3",
   "language": "python",
   "name": "python3"
  },
  "language_info": {
   "codemirror_mode": {
    "name": "ipython",
    "version": 3
   },
   "file_extension": ".py",
   "mimetype": "text/x-python",
   "name": "python",
   "nbconvert_exporter": "python",
   "pygments_lexer": "ipython3",
   "version": "3.7.3"
  }
 },
 "nbformat": 4,
 "nbformat_minor": 2
}
