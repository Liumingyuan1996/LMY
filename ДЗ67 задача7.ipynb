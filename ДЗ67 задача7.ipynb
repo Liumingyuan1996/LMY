{
 "cells": [
  {
   "cell_type": "code",
   "execution_count": 1,
   "metadata": {},
   "outputs": [],
   "source": [
    "import random\n",
    "class Player:\n",
    "    def log(self, mssg):\n",
    "        print('{}! '.format(self.name), mssg)\n",
    "    def __init__(self, name):\n",
    "        self.name = name\n",
    "        random.seed()\n",
    "        self.HP = 100\n",
    "        self.Mana = 100\n",
    "        self.lvl = 1\n",
    "        self.atck = 1\n",
    "        self.deff = 1\n",
    "        self._itd = 'итд'\n",
    "    def lvl_up(self, lvl=1):\n",
    "        self.lvl += lvl\n",
    "        self.deff +=1\n",
    "        self.atck +=1\n",
    "        self.HP = 100\n",
    "        self.Mana = 100\n",
    "    def debuf(self):\n",
    "        if self.deff > 1 and random.randint(0, 1):\n",
    "            self.deff -= 1\n",
    "        if self.atck >1 and random.randint(0, 1):\n",
    "            self.atck -= 1\n",
    "    def buf(self):\n",
    "        if random.randint(0, 2) == 0:\n",
    "            self.deff += 1\n",
    "        if random.randint(0, 2) == 0:\n",
    "            self.atck += 1\n",
    "    def fireball(self, strength = 1):\n",
    "        buff = self.Mana - 10*strength\n",
    "        if buff>0:\n",
    "            self.Mana = buff\n",
    "            self.log(\"Вы успешно отправили огненный привет с наихудшими пожеланиями.\")\n",
    "        else:\n",
    "            while buff<0:\n",
    "                if strength == 0:\n",
    "                    self.log('В вашем мешочке с волшебными веществами не осталось маны, даже на то чтобы увидеть танцующих жирафов, не говоря уже щ метании даже xxxxxxs фаербол.')\n",
    "                    return False\n",
    "                buff = self.Mana - 10*strength\n",
    "            self.log('Тех таблеток из мешочка хватает, чтоб вообразить фаербол силы ', strength, ' , но на более серьезной транссерфинг реальности возьмите чего покрепче.')\n",
    "            self.Mana = buff\n",
    "        return True\n",
    "    def hit_me(self, dmg=10):\n",
    "        buff = self.HP - dmg\n",
    "        if buff > 0:\n",
    "            self.HP = buff\n",
    "            self.log('Похоже Вас ударли. HP: {}'.format(self.HP))\n",
    "        else:\n",
    "            self.log('Вас чуть было не убили, но (какая радость) пролетавший мимо гном на единороге напоил тебя живой водой и весь урон взяла на себя печень -- а она заколдована. Белка продолжается.')"
   ]
  },
  {
   "cell_type": "code",
   "execution_count": 2,
   "metadata": {},
   "outputs": [],
   "source": [
    "class Player2(Player):\n",
    "    _tray = dict()\n",
    "    _step = 0\n",
    "    def __init__(self, name):\n",
    "        super().__init__(name)\n",
    "        self.speed = 2\n",
    "        \n",
    "    def intray(self, obj,param, modify, expired):\n",
    "        expired = Player2._step + expired\n",
    "        if not (expired in Player2._tray):\n",
    "            Player2._tray[expired] = list()\n",
    "        Player2._tray[expired].append({'obj':obj ,'par': param,'def': modify})\n",
    "        \n",
    "    def tray_manager(self):\n",
    "        cur_step = Player2._step\n",
    "        if cur_step in Player2._tray:\n",
    "            for task in Player2._tray[cur_step]:\n",
    "                task['obj'].__dict__[task['par']] = task['def'](task['obj'].__dict__[task['par']])\n",
    "            del Player2._tray[cur_step]\n",
    "        Player2._step+=1\n",
    "    def attack(self, opponent, strength = 1):\n",
    "        if self.fireball(strength):\n",
    "            opponent.hit_me(self.atck/opponent.deff*strength*5)\n",
    "        self.tray_manager()\n",
    "    def debuf(self):\n",
    "        modify = lambda x: x+1\n",
    "        if self.speed > 0:\n",
    "            self.log('Вас настолько тянет во времена, когда трава была зеленее, что ходить по нынешней, блеклой, становится буквально все труднее. -1 к скорости на 10 ходов')\n",
    "            self.speed -= 1\n",
    "            self.intray(self,'speed', modify, 10)\n",
    "        else:\n",
    "            self.log('Да Вы и так стоите, медленнее делать этого, к счастью, нельзя')\n",
    "            \n",
    "        if self.deff > 1 and random.randint(0, 1):\n",
    "            self.log('Вы сдали свой окаменевшие от выслуги лет носки в стирку. -1 к защите на 5 ходов')\n",
    "            self.deff -= 1\n",
    "            self.intray(self,'deff', modify, 5)\n",
    "        else:\n",
    "            self.log('Крепость Вашего лба, закаленная неоднократным наступанием на грабли стала Вашим неотъемлимым, надеемся, достоинством. Оборона остается 1')\n",
    "            \n",
    "        if self.atck >1 and random.randint(0, 1):\n",
    "            self.log('Махатма Ганди произвел на Вас неизгладимое впечатление, пацифистом Вы не стали, но подобрели. -1 к урону на 5 ходов')\n",
    "            self.atck -= 1\n",
    "            self.intray(self,'atck', modify, 5)\n",
    "        else:\n",
    "            self.log('Тот яростный взгляд, которым Вы буравите своих противников -- не отнять. Атака остается 1')\n",
    "        self.tray_manager()\n",
    "        \n",
    "    def buf(self):\n",
    "        modify = lambda x: x-1\n",
    "        if random.randint(0, 2) == 0:\n",
    "            self.log('Вам повезло, слой грязи теперь достаточно большой, чтобы служить защитой. +1 к обороне на 2 хода')\n",
    "            self.deff += 1\n",
    "            self.intray(self,'deff', modify, 2)\n",
    "        if random.randint(0, 2) == 0:\n",
    "            self.atck += 1\n",
    "            self.log(\"Вы встали не с той ноги, и обиженная конечность пинается лучше. +1 к атаке на 2 хода\")\n",
    "            self.intray(self,'atck', modify, 2)\n",
    "        self.tray_manager()\n",
    "    def mv(self):\n",
    "        self.log(\"Вы прошли из ниоткуда в никуда на {} клет{} больше\".format(self.speed, {1:'ку', 2:'ок'}[self.speed]))\n",
    "        self.tray_manager()"
   ]
  },
  {
   "cell_type": "code",
   "execution_count": 3,
   "metadata": {},
   "outputs": [],
   "source": [
    "\n",
    "mrFoo = Player2('Mr Foo')\n",
    "mrBar = Player2('Mr Bar')"
   ]
  },
  {
   "cell_type": "code",
   "execution_count": 4,
   "metadata": {},
   "outputs": [
    {
     "name": "stdout",
     "output_type": "stream",
     "text": [
      "Mr Foo!  Вы прошли из ниоткуда в никуда на 2 клеток больше\n"
     ]
    }
   ],
   "source": [
    "\n",
    "mrFoo.mv()"
   ]
  },
  {
   "cell_type": "code",
   "execution_count": 6,
   "metadata": {},
   "outputs": [
    {
     "data": {
      "text/plain": [
       "1"
      ]
     },
     "execution_count": 6,
     "metadata": {},
     "output_type": "execute_result"
    }
   ],
   "source": [
    "\n",
    "mrFoo.deff"
   ]
  },
  {
   "cell_type": "code",
   "execution_count": 7,
   "metadata": {},
   "outputs": [
    {
     "name": "stdout",
     "output_type": "stream",
     "text": [
      "Mr Foo!  Вы встали не с той ноги, и обиженная конечность пинается лучше. +1 к атаке на 2 хода\n"
     ]
    }
   ],
   "source": [
    "mrFoo.buf()"
   ]
  },
  {
   "cell_type": "code",
   "execution_count": 8,
   "metadata": {},
   "outputs": [
    {
     "data": {
      "text/plain": [
       "1"
      ]
     },
     "execution_count": 8,
     "metadata": {},
     "output_type": "execute_result"
    }
   ],
   "source": [
    "mrFoo.deff"
   ]
  },
  {
   "cell_type": "code",
   "execution_count": 9,
   "metadata": {},
   "outputs": [
    {
     "name": "stdout",
     "output_type": "stream",
     "text": [
      "Mr Foo!  Вы прошли из ниоткуда в никуда на 2 клеток больше\n",
      "Mr Foo!  Вы прошли из ниоткуда в никуда на 2 клеток больше\n"
     ]
    },
    {
     "data": {
      "text/plain": [
       "1"
      ]
     },
     "execution_count": 9,
     "metadata": {},
     "output_type": "execute_result"
    }
   ],
   "source": [
    "mrFoo.mv()\n",
    "mrFoo.mv()\n",
    "mrFoo.deff"
   ]
  },
  {
   "cell_type": "code",
   "execution_count": 10,
   "metadata": {},
   "outputs": [
    {
     "name": "stdout",
     "output_type": "stream",
     "text": [
      "Mr Foo!  Вас настолько тянет во времена, когда трава была зеленее, что ходить по нынешней, блеклой, становится буквально все труднее. -1 к скорости на 10 ходов\n",
      "Mr Foo!  Крепость Вашего лба, закаленная неоднократным наступанием на грабли стала Вашим неотъемлимым, надеемся, достоинством. Оборона остается 1\n",
      "Mr Foo!  Махатма Ганди произвел на Вас неизгладимое впечатление, пацифистом Вы не стали, но подобрели. -1 к урону на 5 ходов\n"
     ]
    }
   ],
   "source": [
    "mrFoo.lvl_up()\n",
    "mrFoo.debuf()"
   ]
  },
  {
   "cell_type": "code",
   "execution_count": 11,
   "metadata": {},
   "outputs": [
    {
     "data": {
      "text/plain": [
       "{'name': 'Mr Foo',\n",
       " 'HP': 100,\n",
       " 'Mana': 100,\n",
       " 'lvl': 2,\n",
       " 'atck': 1,\n",
       " 'deff': 2,\n",
       " '_itd': 'итд',\n",
       " 'speed': 1}"
      ]
     },
     "execution_count": 11,
     "metadata": {},
     "output_type": "execute_result"
    }
   ],
   "source": [
    "mrFoo.__dict__"
   ]
  },
  {
   "cell_type": "code",
   "execution_count": 12,
   "metadata": {},
   "outputs": [
    {
     "name": "stdout",
     "output_type": "stream",
     "text": [
      "Mr Foo!  Вы прошли из ниоткуда в никуда на 1 клетку больше\n",
      "Mr Foo!  Вы прошли из ниоткуда в никуда на 1 клетку больше\n",
      "Mr Foo!  Вы прошли из ниоткуда в никуда на 1 клетку больше\n",
      "Mr Foo!  Вы прошли из ниоткуда в никуда на 1 клетку больше\n",
      "Mr Foo!  Вы прошли из ниоткуда в никуда на 1 клетку больше\n"
     ]
    },
    {
     "data": {
      "text/plain": [
       "{'name': 'Mr Foo',\n",
       " 'HP': 100,\n",
       " 'Mana': 100,\n",
       " 'lvl': 2,\n",
       " 'atck': 2,\n",
       " 'deff': 2,\n",
       " '_itd': 'итд',\n",
       " 'speed': 1}"
      ]
     },
     "execution_count": 12,
     "metadata": {},
     "output_type": "execute_result"
    }
   ],
   "source": [
    "for i in range(5):\n",
    "    mrFoo.mv()\n",
    "mrFoo.__dict__"
   ]
  },
  {
   "cell_type": "code",
   "execution_count": 13,
   "metadata": {},
   "outputs": [
    {
     "name": "stdout",
     "output_type": "stream",
     "text": [
      "Mr Foo!  Вы прошли из ниоткуда в никуда на 1 клетку больше\n",
      "Mr Foo!  Вы прошли из ниоткуда в никуда на 1 клетку больше\n",
      "Mr Foo!  Вы прошли из ниоткуда в никуда на 1 клетку больше\n",
      "Mr Foo!  Вы прошли из ниоткуда в никуда на 1 клетку больше\n",
      "Mr Foo!  Вы прошли из ниоткуда в никуда на 1 клетку больше\n"
     ]
    },
    {
     "data": {
      "text/plain": [
       "{'name': 'Mr Foo',\n",
       " 'HP': 100,\n",
       " 'Mana': 100,\n",
       " 'lvl': 2,\n",
       " 'atck': 2,\n",
       " 'deff': 2,\n",
       " '_itd': 'итд',\n",
       " 'speed': 2}"
      ]
     },
     "execution_count": 13,
     "metadata": {},
     "output_type": "execute_result"
    }
   ],
   "source": [
    "for i in range(5):\n",
    "    mrFoo.mv()\n",
    "mrFoo.__dict__"
   ]
  },
  {
   "cell_type": "code",
   "execution_count": 14,
   "metadata": {},
   "outputs": [],
   "source": [
    "mrBar.HP = 100\n",
    "mrFoo.Mana = 100"
   ]
  },
  {
   "cell_type": "code",
   "execution_count": 15,
   "metadata": {},
   "outputs": [
    {
     "name": "stdout",
     "output_type": "stream",
     "text": [
      "Mr Foo's mana:  100 ; Mr Bar's HP: 100\n",
      "Mr Foo!  Вы успешно отправили огненный привет с наихудшими пожеланиями.\n",
      "Mr Bar!  Похоже Вас ударли. HP: 90.0\n",
      "Mr Foo's mana:  90 ; Mr Bar's HP: 90.0\n"
     ]
    }
   ],
   "source": [
    "print(\"Mr Foo's mana: \", mrFoo.Mana, \"; Mr Bar's HP:\" ,mrBar.HP)\n",
    "mrFoo.attack(mrBar)\n",
    "print(\"Mr Foo's mana: \", mrFoo.Mana, \"; Mr Bar's HP:\", mrBar.HP)"
   ]
  },
  {
   "cell_type": "code",
   "execution_count": null,
   "metadata": {},
   "outputs": [],
   "source": []
  }
 ],
 "metadata": {
  "kernelspec": {
   "display_name": "Python 3",
   "language": "python",
   "name": "python3"
  },
  "language_info": {
   "codemirror_mode": {
    "name": "ipython",
    "version": 3
   },
   "file_extension": ".py",
   "mimetype": "text/x-python",
   "name": "python",
   "nbconvert_exporter": "python",
   "pygments_lexer": "ipython3",
   "version": "3.7.3"
  }
 },
 "nbformat": 4,
 "nbformat_minor": 2
}
