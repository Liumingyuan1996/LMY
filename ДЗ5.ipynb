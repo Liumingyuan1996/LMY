{
 "cells": [
  {
   "cell_type": "code",
   "execution_count": 1,
   "metadata": {},
   "outputs": [],
   "source": [
    "import random\n",
    "class Player:\n",
    "    def __init__(self):\n",
    "        random.seed()\n",
    "        self.HP = 100\n",
    "        self.Mana = 100\n",
    "        self.lvl = 1\n",
    "        self.atck = 1\n",
    "        self.deff = 1\n",
    "        self._itd = 'итд'\n",
    "    def lvl_up(self, lvl=1):\n",
    "        self.lvl += lvl\n",
    "        self.deff +=1\n",
    "        self.atck +=1\n",
    "        self.HP = 100\n",
    "        self.Mana = 100\n",
    "    def debuf(self):\n",
    "        if self.deff > 1 and random.randint(0, 1):\n",
    "            self.deff -= 1\n",
    "        if self.atck >1 and random.randint(0, 1):\n",
    "            self.atck -= 1\n",
    "    def buf(self):\n",
    "        if random.randint(0, 2) == 0:\n",
    "            self.deff += 1\n",
    "        if random.randint(0, 2) == 0:\n",
    "            self.atck += 1\n",
    "    def fireball(self, strength = 1):\n",
    "        buff = self.Mana - 10*strength\n",
    "        if buff>0:\n",
    "            self.Mana = buff\n",
    "        else:\n",
    "            while buff<0:\n",
    "                strength -= 1\n",
    "                if strength == 0:\n",
    "                    print('нет маны метнуть даже xxxxxxs фаербол(')\n",
    "                    return\n",
    "                buff = self.Mana - 10*strength\n",
    "            print('метнуть фаербол нужной силы не вышло, но на фаербол силы ', strength, 'хватило')\n",
    "            self.Mana = buff\n",
    "    def hit_me(self, dmg=10):\n",
    "        buff = self.HP - dmg\n",
    "        if buff > 0:\n",
    "            self.HP = buff\n",
    "        else:\n",
    "            print('Тебя чуть было не убили, но (какая радость) пролетавший мимо гном на единороге напоил тебя живой водой и весь урон взяла на себя печень -- а она заколдована. Белка продолжается.')\n",
    "    "
   ]
  },
  {
   "cell_type": "code",
   "execution_count": 2,
   "metadata": {},
   "outputs": [
    {
     "data": {
      "text/plain": [
       "{'HP': 100, 'Mana': 100, 'lvl': 1, 'atck': 1, 'deff': 1, '_itd': 'итд'}"
      ]
     },
     "execution_count": 2,
     "metadata": {},
     "output_type": "execute_result"
    }
   ],
   "source": [
    "Roger = Player()\n",
    "Roger.__dict__"
   ]
  },
  {
   "cell_type": "code",
   "execution_count": 3,
   "metadata": {},
   "outputs": [
    {
     "data": {
      "text/plain": [
       "{'HP': 100, 'Mana': 100, 'lvl': 2, 'atck': 2, 'deff': 2, '_itd': 'итд'}"
      ]
     },
     "execution_count": 3,
     "metadata": {},
     "output_type": "execute_result"
    }
   ],
   "source": [
    "Roger.lvl_up()\n",
    "Roger.__dict__"
   ]
  },
  {
   "cell_type": "code",
   "execution_count": 4,
   "metadata": {},
   "outputs": [
    {
     "data": {
      "text/plain": [
       "{'HP': 100, 'Mana': 100, 'lvl': 2, 'atck': 2, 'deff': 3, '_itd': 'итд'}"
      ]
     },
     "execution_count": 4,
     "metadata": {},
     "output_type": "execute_result"
    }
   ],
   "source": [
    "Roger.buf()\n",
    "Roger.__dict__"
   ]
  },
  {
   "cell_type": "code",
   "execution_count": 5,
   "metadata": {},
   "outputs": [
    {
     "data": {
      "text/plain": [
       "{'HP': 100, 'Mana': 100, 'lvl': 2, 'atck': 2, 'deff': 3, '_itd': 'итд'}"
      ]
     },
     "execution_count": 5,
     "metadata": {},
     "output_type": "execute_result"
    }
   ],
   "source": [
    "Roger.buf()\n",
    "Roger.__dict__"
   ]
  },
  {
   "cell_type": "code",
   "execution_count": 6,
   "metadata": {},
   "outputs": [
    {
     "data": {
      "text/plain": [
       "{'HP': 100, 'Mana': 100, 'lvl': 2, 'atck': 2, 'deff': 2, '_itd': 'итд'}"
      ]
     },
     "execution_count": 6,
     "metadata": {},
     "output_type": "execute_result"
    }
   ],
   "source": [
    "Roger.debuf()\n",
    "Roger.__dict__"
   ]
  },
  {
   "cell_type": "code",
   "execution_count": 7,
   "metadata": {},
   "outputs": [
    {
     "data": {
      "text/plain": [
       "{'HP': 100, 'Mana': 100, 'lvl': 2, 'atck': 2, 'deff': 1, '_itd': 'итд'}"
      ]
     },
     "execution_count": 7,
     "metadata": {},
     "output_type": "execute_result"
    }
   ],
   "source": [
    "Roger.debuf()\n",
    "Roger.__dict__"
   ]
  },
  {
   "cell_type": "code",
   "execution_count": 8,
   "metadata": {},
   "outputs": [
    {
     "data": {
      "text/plain": [
       "{'HP': 90, 'Mana': 100, 'lvl': 2, 'atck': 2, 'deff': 1, '_itd': 'итд'}"
      ]
     },
     "execution_count": 8,
     "metadata": {},
     "output_type": "execute_result"
    }
   ],
   "source": [
    "Roger.hit_me(10)\n",
    "Roger.__dict__"
   ]
  },
  {
   "cell_type": "code",
   "execution_count": 9,
   "metadata": {},
   "outputs": [
    {
     "name": "stdout",
     "output_type": "stream",
     "text": [
      "Тебя чуть было не убили, но (какая радость) пролетавший мимо гном на единороге напоил тебя живой водой и весь урон взяла на себя печень -- а она заколдована. Белка продолжается.\n"
     ]
    },
    {
     "data": {
      "text/plain": [
       "{'HP': 90, 'Mana': 100, 'lvl': 2, 'atck': 2, 'deff': 1, '_itd': 'итд'}"
      ]
     },
     "execution_count": 9,
     "metadata": {},
     "output_type": "execute_result"
    }
   ],
   "source": [
    "Roger.hit_me(100)\n",
    "Roger.__dict__"
   ]
  },
  {
   "cell_type": "code",
   "execution_count": 10,
   "metadata": {},
   "outputs": [
    {
     "data": {
      "text/plain": [
       "{'HP': 90, 'Mana': 90, 'lvl': 2, 'atck': 2, 'deff': 1, '_itd': 'итд'}"
      ]
     },
     "execution_count": 10,
     "metadata": {},
     "output_type": "execute_result"
    }
   ],
   "source": [
    "Roger.fireball(1)\n",
    "Roger.__dict__"
   ]
  },
  {
   "cell_type": "code",
   "execution_count": 11,
   "metadata": {},
   "outputs": [
    {
     "name": "stdout",
     "output_type": "stream",
     "text": [
      "метнуть фаербол нужной силы не вышло, но на фаербол силы  9 хватило\n"
     ]
    },
    {
     "data": {
      "text/plain": [
       "{'HP': 90, 'Mana': 0, 'lvl': 2, 'atck': 2, 'deff': 1, '_itd': 'итд'}"
      ]
     },
     "execution_count": 11,
     "metadata": {},
     "output_type": "execute_result"
    }
   ],
   "source": [
    "Roger.fireball(10)\n",
    "Roger.__dict__"
   ]
  },
  {
   "cell_type": "code",
   "execution_count": 12,
   "metadata": {},
   "outputs": [
    {
     "data": {
      "text/plain": [
       "{'HP': 100, 'Mana': 100, 'lvl': 3, 'atck': 3, 'deff': 2, '_itd': 'итд'}"
      ]
     },
     "execution_count": 12,
     "metadata": {},
     "output_type": "execute_result"
    }
   ],
   "source": [
    "Roger.lvl_up()\n",
    "Roger.__dict__"
   ]
  },
  {
   "cell_type": "code",
   "execution_count": null,
   "metadata": {},
   "outputs": [],
   "source": []
  }
 ],
 "metadata": {
  "kernelspec": {
   "display_name": "Python 3",
   "language": "python",
   "name": "python3"
  },
  "language_info": {
   "codemirror_mode": {
    "name": "ipython",
    "version": 3
   },
   "file_extension": ".py",
   "mimetype": "text/x-python",
   "name": "python",
   "nbconvert_exporter": "python",
   "pygments_lexer": "ipython3",
   "version": "3.7.3"
  }
 },
 "nbformat": 4,
 "nbformat_minor": 2
}
