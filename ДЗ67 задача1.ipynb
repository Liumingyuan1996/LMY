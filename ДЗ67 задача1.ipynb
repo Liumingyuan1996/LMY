{
 "cells": [
  {
   "cell_type": "code",
   "execution_count": 1,
   "metadata": {},
   "outputs": [],
   "source": [
    "class Complex:\n",
    "    def __init__(self, Re, Im):\n",
    "        self.Re = Re\n",
    "        self.Im = Im\n",
    "    def __eq__(self,z2):\n",
    "        return (self.Re == z2.Re) and (self.Im == z2.Im)\n",
    "    def __sub__(self, z2):\n",
    "        return Complex(self.Re - z2.Re, self.Im - z2.Im)\n",
    "    def __add__(self, z2):\n",
    "        return Complex(self.Re + z2.Re, self.Im + z2.Im)\n",
    "    def __mul__(self, z2):\n",
    "        a1,a2,b1,b2 = self.Re, z2.Re, self.Im, z2.Im\n",
    "        return Complex(a1*a2 - b1*b2, a1*b2 + b1*a2)\n",
    "    def __abs__(self):\n",
    "        return (self.Re**2 + self.Im**2)**0.5\n",
    "    def __truediv__(self, z2):\n",
    "        a1,a2,b1,b2 = self.Re, z2.Re, self.Im, z2.Im \n",
    "        mod2 = a2**2 + b2**2\n",
    "        return Complex((a1*a2 + b1*b2)/mod2, (a2*b1-a1*b2)/mod2)\n",
    "    def __repr__(self):\n",
    "        return '{} + {}⋅i'.format(self.Re, self.Im)\n",
    "    def __str__(self):\n",
    "        return '{} + {}⋅i'.format(self.Re, self.Im)"
   ]
  },
  {
   "cell_type": "code",
   "execution_count": 2,
   "metadata": {},
   "outputs": [
    {
     "data": {
      "text/plain": [
       "1 + 2⋅i"
      ]
     },
     "execution_count": 2,
     "metadata": {},
     "output_type": "execute_result"
    }
   ],
   "source": [
    "Complex(1,2)"
   ]
  },
  {
   "cell_type": "code",
   "execution_count": 3,
   "metadata": {},
   "outputs": [
    {
     "name": "stdout",
     "output_type": "stream",
     "text": [
      "1 + 2⋅i\n"
     ]
    }
   ],
   "source": [
    "print(Complex(1,2))"
   ]
  },
  {
   "cell_type": "code",
   "execution_count": 4,
   "metadata": {},
   "outputs": [
    {
     "data": {
      "text/plain": [
       "-2 + 1⋅i"
      ]
     },
     "execution_count": 4,
     "metadata": {},
     "output_type": "execute_result"
    }
   ],
   "source": [
    "Complex(1,2) - Complex(3,1)"
   ]
  },
  {
   "cell_type": "code",
   "execution_count": 5,
   "metadata": {},
   "outputs": [
    {
     "data": {
      "text/plain": [
       "4 + 3⋅i"
      ]
     },
     "execution_count": 5,
     "metadata": {},
     "output_type": "execute_result"
    }
   ],
   "source": [
    "Complex(1,2) + Complex(3,1)"
   ]
  },
  {
   "cell_type": "code",
   "execution_count": 6,
   "metadata": {},
   "outputs": [
    {
     "data": {
      "text/plain": [
       "0.5 + 0.5⋅i"
      ]
     },
     "execution_count": 6,
     "metadata": {},
     "output_type": "execute_result"
    }
   ],
   "source": [
    "Complex(1,2) / Complex(3,1)"
   ]
  },
  {
   "cell_type": "code",
   "execution_count": 7,
   "metadata": {},
   "outputs": [
    {
     "data": {
      "text/plain": [
       "1 + 7⋅i"
      ]
     },
     "execution_count": 7,
     "metadata": {},
     "output_type": "execute_result"
    }
   ],
   "source": [
    "Complex(1,2) * Complex(3,1)"
   ]
  },
  {
   "cell_type": "code",
   "execution_count": 8,
   "metadata": {},
   "outputs": [
    {
     "data": {
      "text/plain": [
       "5.0"
      ]
     },
     "execution_count": 8,
     "metadata": {},
     "output_type": "execute_result"
    }
   ],
   "source": [
    "abs(Complex(3,4))"
   ]
  },
  {
   "cell_type": "code",
   "execution_count": 9,
   "metadata": {},
   "outputs": [
    {
     "data": {
      "text/plain": [
       "True"
      ]
     },
     "execution_count": 9,
     "metadata": {},
     "output_type": "execute_result"
    }
   ],
   "source": [
    "Complex(3,4) == Complex(3,4)"
   ]
  },
  {
   "cell_type": "code",
   "execution_count": 10,
   "metadata": {},
   "outputs": [
    {
     "data": {
      "text/plain": [
       "False"
      ]
     },
     "execution_count": 10,
     "metadata": {},
     "output_type": "execute_result"
    }
   ],
   "source": [
    "Complex(1,4) == Complex(3,4)"
   ]
  },
  {
   "cell_type": "code",
   "execution_count": null,
   "metadata": {},
   "outputs": [],
   "source": []
  }
 ],
 "metadata": {
  "kernelspec": {
   "display_name": "Python 3",
   "language": "python",
   "name": "python3"
  },
  "language_info": {
   "codemirror_mode": {
    "name": "ipython",
    "version": 3
   },
   "file_extension": ".py",
   "mimetype": "text/x-python",
   "name": "python",
   "nbconvert_exporter": "python",
   "pygments_lexer": "ipython3",
   "version": "3.7.3"
  }
 },
 "nbformat": 4,
 "nbformat_minor": 2
}
